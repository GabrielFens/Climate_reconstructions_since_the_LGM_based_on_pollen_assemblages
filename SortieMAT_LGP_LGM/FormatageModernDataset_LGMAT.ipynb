{
 "cells": [
  {
   "cell_type": "code",
   "execution_count": null,
   "metadata": {},
   "outputs": [],
   "source": [
    "import pandas as pd \n",
    "import matplotlib.pyplot as plt\n",
    "import numpy as np\n",
    "import csv\n",
    "#Fichier d'entrée = AssemblageModerneEMPD\n",
    "Data=pd.read_csv(\"EMPD2_20202021.txt\",sep='\\t',encoding='latin-1')\n",
    "Data.head()\n",
    "Site=Data['Site']\n",
    "Taxons=Data[\"Taxons\"]\n",
    "Counts=Data['Count']\n",
    "Counts = Counts.astype(int)\n",
    "print(len(Site))\n",
    "#Initialisation du fichier de sortie = spectres modernes incrémentés\n",
    "def write(N):\n",
    "    file=open('ModernData.txt',mode='w')\n",
    "    for i in range(len(N)):\n",
    "        file.write(str(N[i])+'\\n')\n",
    "    file.close()\n",
    "#Fraction relative de pollens par site d'échantillonnage\n",
    "M=np.arange(0,len(Site),1)\n",
    "SiteName=Site[0]\n",
    "Somme=0\n",
    "Som=[]\n",
    "nb=0\n",
    "n=0\n",
    "for i in M:\n",
    "    if Site[i]!=SiteName:\n",
    "        Som.append(Somme)\n",
    "        SiteName=Site[i]\n",
    "        Somme=0\n",
    "    if Site[i]==SiteName:\n",
    "        Somme+=Counts[i]\n",
    "Som.append(Somme)\n",
    "Data=pd.read_csv(\"popil_DataMAT\",sep=';')\n",
    "TaxonFoss = data.iloc[0]\n",
    "#Matrice d'autocorrélation multiple de sortie\n",
    "SiteName=[]\n",
    "for i in Site:\n",
    "    if i not in SiteName:\n",
    "        SiteName.append(i)\n",
    "Ass=np.zeros((len(Som),len(TaxonFoss)))\n",
    "for i in range(len(Som)):\n",
    "          for j in range(len(TaxonFoss)):\n",
    "                Countif=Counts[(Site==SiteName[i])&(Taxons==TaxonFoss[j])]\n",
    "                Countif=np.sum(Countif)\n",
    "                if (Countif)!=0:\n",
    "                     Ass[i,j]=(np.sum(Counts[(Site==SiteName[i])&(Taxons==TaxonFoss[j])])*100)/Som[i]\n",
    "                else:\n",
    "                     Ass[i,j]=0\n",
    "with open(\"ModernData.csv\", \"w\", newline=\"\") as file:\n",
    "    write = csv.writer(file, delimiter=\";\")\n",
    "    write.writerows(Ass)"
   ]
  }
 ],
 "metadata": {
  "kernelspec": {
   "display_name": "Python 3",
   "language": "python",
   "name": "python3"
  },
  "language_info": {
   "codemirror_mode": {
    "name": "ipython",
    "version": 3
   },
   "file_extension": ".py",
   "mimetype": "text/x-python",
   "name": "python",
   "nbconvert_exporter": "python",
   "pygments_lexer": "ipython3",
   "version": "3.7.3"
  }
 },
 "nbformat": 4,
 "nbformat_minor": 2
}
